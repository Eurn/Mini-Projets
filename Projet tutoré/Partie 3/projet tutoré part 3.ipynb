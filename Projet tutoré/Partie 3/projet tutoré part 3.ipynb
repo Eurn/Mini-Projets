{
 "cells": [
  {
   "cell_type": "code",
   "execution_count": 2,
   "metadata": {},
   "outputs": [
    {
     "name": "stdout",
     "output_type": "stream",
     "text": [
      "False doit retourner False\n",
      "True doit retourner True\n"
     ]
    }
   ],
   "source": [
    "def indice_valide(plateau, indice):\n",
    "    return indice>=0 and indice < plateau['n']\n",
    "\n",
    "\n",
    "\n",
    "plateau ={'n':4,\n",
    "        'cases': [\n",
    "                    0,0,0,0,   \n",
    "                    0,0,0,0,\n",
    "                    0,0,0,0,\n",
    "                    0,0,0,0\n",
    "                ]\n",
    "}\n",
    "\n",
    "\n",
    "print(indice_valide(plateau, 32),\"doit retourner False\")\n",
    "print(indice_valide(plateau, 1),\"doit retourner True\")\n",
    "\n"
   ]
  },
  {
   "cell_type": "code",
   "execution_count": 3,
   "metadata": {},
   "outputs": [
    {
     "name": "stdout",
     "output_type": "stream",
     "text": [
      "True doit retourner True\n",
      "False doit retourner False\n"
     ]
    }
   ],
   "source": [
    "def case_valide(plateau, i, j):\n",
    "    return indice_valide(plateau, i) and indice_valide(plateau, j)\n",
    "\n",
    "    plateau ={'n':4,\n",
    "        'cases': [\n",
    "                    0,0,0,0,   \n",
    "                    0,0,0,0,\n",
    "                    0,0,0,0,\n",
    "                    0,0,0,0\n",
    "                ]\n",
    "}\n",
    "print(case_valide(plateau,3,0),\"doit retourner True\")\n",
    "print(case_valide(plateau,5,2),\"doit retourner False\")\n"
   ]
  },
  {
   "cell_type": "code",
   "execution_count": 4,
   "metadata": {},
   "outputs": [
    {
     "name": "stdout",
     "output_type": "stream",
     "text": [
      "2 doit retourner 2\n",
      "0 doit retourner 0\n"
     ]
    }
   ],
   "source": [
    "def get_case(plateau, i, j):\n",
    "        assert plateau['cases'][i*plateau['n']+j]<=plateau['n']**2\n",
    "        return plateau['cases'][i*plateau['n']+j]\n",
    "    \n",
    "    \n",
    "    \n",
    "    \n",
    "plateau ={'n':4,\n",
    "        'cases': [\n",
    "                    0,0,0,0,   \n",
    "                    0,0,0,0,\n",
    "                    0,0,0,0,\n",
    "                    0,2,0,0\n",
    "                 ]\n",
    "}\n",
    "    \n",
    "    \n",
    "print(get_case(plateau, 3, 1),\"doit retourner 2\")\n",
    "print(get_case(plateau, 0, 0),\"doit retourner 0\")\n"
   ]
  },
  {
   "cell_type": "code",
   "execution_count": 5,
   "metadata": {},
   "outputs": [
    {
     "name": "stdout",
     "output_type": "stream",
     "text": [
      "2 doit retourner 2\n",
      "[0, 0, 0, 0, 0, 2, 0, 0, 0, 0, 0, 0, 0, 0, 0, 0] doit afficher 2 à la case d'indice 5\n"
     ]
    }
   ],
   "source": [
    "def set_case(plateau, i, j, val):\n",
    "    assert val == 0 or val == 1 or val == 2\n",
    "    plateau['cases'][i*plateau['n']+j] = val \n",
    "    return plateau['cases'][i*plateau['n']+j]\n",
    "    \n",
    "    \n",
    "    \n",
    "        \n",
    "plateau ={'n':4,\n",
    "        'cases': [\n",
    "                    0,0,0,0,   \n",
    "                    0,0,0,0,\n",
    "                    0,0,0,0,\n",
    "                    0,0,0,0\n",
    "                 ]\n",
    "}\n",
    "    \n",
    "print(set_case(plateau, 1,1,2),\"doit retourner 2\")\n",
    "print(plateau['cases'],\"doit afficher 2 à la case d'indice 5\") # Car 1*4+1=5"
   ]
  },
  {
   "cell_type": "code",
   "execution_count": 6,
   "metadata": {},
   "outputs": [
    {
     "name": "stdout",
     "output_type": "stream",
     "text": [
      "{'n': 8, 'cases': [0, 0, 0, 0, 0, 0, 0, 0, 0, 0, 0, 0, 0, 0, 0, 0, 0, 0, 0, 0, 0, 0, 0, 0, 0, 0, 0, 2, 1, 0, 0, 0, 0, 0, 0, 1, 2, 0, 0, 0, 0, 0, 0, 0, 0, 0, 0, 0, 0, 0, 0, 0, 0, 0, 0, 0, 0, 0, 0, 0, 0, 0, 0, 0]}\n"
     ]
    }
   ],
   "source": [
    "def creer_plateau(n):\n",
    "    assert n==4 or n==6 or n==8\n",
    "    tableau={'n':n,'cases':[]}\n",
    "    i=0\n",
    "    while i<n**2:\n",
    "        tableau['cases'].append(0)\n",
    "        i+=1\n",
    "    set_case(tableau, (n//2)-1,(n//2)-1,2)\n",
    "    set_case(tableau, (n//2)-1,(n//2),1)\n",
    "    set_case(tableau, (n//2),(n//2)-1,1)\n",
    "    set_case(tableau, (n//2),(n//2),2)\n",
    "    return tableau\n",
    "        \n",
    "        \n",
    "        \n",
    "        \n",
    "print(creer_plateau(8))"
   ]
  },
  {
   "cell_type": "code",
   "execution_count": 7,
   "metadata": {},
   "outputs": [
    {
     "name": "stdout",
     "output_type": "stream",
     "text": [
      "*********************************************************\n",
      "*      *      *      *      *      *      *      *      *\n",
      "*      *      *      *      *      *      *      *      *  \n",
      "*      *      *      *      *      *      *      *      *\n",
      "*********************************************************\n",
      "*      *      *      *      *      *      *      *      *\n",
      "*      *      *      *      *      *      *      *      *  \n",
      "*      *      *      *      *      *      *      *      *\n",
      "*********************************************************\n",
      "*      *      *      *      *      *      *      *      *\n",
      "*      *      *      *      *      *      *      *      *  \n",
      "*      *      *      *      *      *      *      *      *\n",
      "*********************************************************\n",
      "*      *      *      *      *      *      *      *      *\n",
      "*      *      *      *  B   *  N   *      *      *      *  \n",
      "*      *      *      *      *      *      *      *      *\n",
      "*********************************************************\n",
      "*      *      *      *      *      *      *      *      *\n",
      "*      *      *      *  N   *  B   *      *      *      *  \n",
      "*      *      *      *      *      *      *      *      *\n",
      "*********************************************************\n",
      "*      *      *      *      *      *      *      *      *\n",
      "*      *      *      *      *      *      *      *      *  \n",
      "*      *      *      *      *      *      *      *      *\n",
      "*********************************************************\n",
      "*      *      *      *      *      *      *      *      *\n",
      "*      *      *      *      *      *      *      *      *  \n",
      "*      *      *      *      *      *      *      *      *\n",
      "*********************************************************\n",
      "*      *      *      *      *      *      *      *      *\n",
      "*      *      *      *      *      *      *      *      *  \n",
      "*      *      *      *      *      *      *      *      *\n",
      "*********************************************************\n"
     ]
    }
   ],
   "source": [
    "def N_B(tab):\n",
    "    i=0\n",
    "    t=[]\n",
    "    while i<len(tab):\n",
    "        if tab[i]==0:\n",
    "            t.append(' ')\n",
    "        elif tab[i]==1:\n",
    "            t.append('N')\n",
    "        elif tab[i]==2:\n",
    "            t.append('B')\n",
    "        i+=1\n",
    "    return t\n",
    "\n",
    "\n",
    "def ligne_etoile(n):\n",
    "        print((n*7+1)*'*')\n",
    "\n",
    "    \n",
    "        \n",
    "\n",
    "def afficher_plateau (plateau):\n",
    "    n=plateau['n']\n",
    "    t=N_B(plateau['cases'])\n",
    "    lignes=0\n",
    "    ligne_etoile(n)\n",
    "    while lignes < n:\n",
    "        s='*  '\n",
    "        colonnes=0\n",
    "        while colonnes < n:\n",
    "            s+=str(t[lignes*n+colonnes])+'   *  '\n",
    "            colonnes+=1\n",
    "        print(n*'*      '+'*')\n",
    "        print(s)\n",
    "        print(n*'*      '+'*')\n",
    "        ligne_etoile(n)\n",
    "        lignes+=1\n",
    "        \n",
    "\n",
    "\n",
    "\n",
    "x=creer_plateau(8)\n",
    "  \n",
    "\n",
    "afficher_plateau (x)"
   ]
  },
  {
   "cell_type": "code",
   "execution_count": 8,
   "metadata": {},
   "outputs": [
    {
     "name": "stdout",
     "output_type": "stream",
     "text": [
      "1\n"
     ]
    }
   ],
   "source": [
    "def pion_adverse(joueur):\n",
    "    assert joueur==1 or joueur==2\n",
    "    if joueur == 1:\n",
    "        return 2\n",
    "    return 1\n",
    "print(pion_adverse(2))\n",
    "\n",
    " "
   ]
  },
  {
   "cell_type": "code",
   "execution_count": 9,
   "metadata": {},
   "outputs": [
    {
     "name": "stdout",
     "output_type": "stream",
     "text": [
      "True\n",
      "False\n",
      "False\n",
      "True\n"
     ]
    }
   ],
   "source": [
    "def prise_possible_direction(plateau, i, j, vertical, horizontal, joueur):\n",
    "    if case_valide(plateau,i+vertical,j+horizontal) and get_case(plateau,i+vertical,j+horizontal)==pion_adverse(joueur):\n",
    "        x=i+2*vertical\n",
    "        y=j+2*horizontal\n",
    "        while case_valide(plateau, x, y):\n",
    "            if get_case(plateau,x,y)==0:\n",
    "                return False\n",
    "            elif get_case(plateau,x,y)==joueur:\n",
    "                return True\n",
    "            x+=vertical\n",
    "            y+=horizontal\n",
    "    return False\n",
    "\n",
    "plateau ={'n':4,\n",
    "        'cases': [\n",
    "                    0,0,0,0,   \n",
    "                    0,2,1,0,\n",
    "                    0,1,2,0,\n",
    "                    0,0,0,0\n",
    "                 ]\n",
    "}\n",
    "        \n",
    "    \n",
    "       \n",
    "print(prise_possible_direction(plateau,1,3,0,-1,2))# retourne True\n",
    "print(prise_possible_direction(plateau,1,3,0,-1,1)) # retourne False\n",
    "print(prise_possible_direction(plateau,1,3,-1,-1,2)) # retourne False\n",
    "print(prise_possible_direction(plateau,1,0,0,1,1)) # retourne True\n",
    "\n"
   ]
  },
  {
   "cell_type": "code",
   "execution_count": 10,
   "metadata": {},
   "outputs": [
    {
     "name": "stdout",
     "output_type": "stream",
     "text": [
      "True\n",
      "False\n"
     ]
    }
   ],
   "source": [
    "def mouvement_valide(plateau,i,j,joueur):\n",
    "    if get_case(plateau,i,j) == 0:\n",
    "        if prise_possible_direction(plateau,i,j,0,-1,joueur):\n",
    "            return True\n",
    "        elif prise_possible_direction(plateau,i,j,0,1,joueur):\n",
    "            return True\n",
    "        elif prise_possible_direction(plateau,i,j,-1,0,joueur):\n",
    "            return True\n",
    "        elif prise_possible_direction(plateau,i,j,-1,-1,joueur):\n",
    "            return True\n",
    "        elif prise_possible_direction(plateau,i,j,-1,1,joueur):\n",
    "            return True\n",
    "        elif prise_possible_direction(plateau,i,j,1,-1,joueur):\n",
    "            return True\n",
    "        elif prise_possible_direction(plateau,i,j,1,0,joueur):\n",
    "            return True\n",
    "        elif prise_possible_direction(plateau,i,j,1,1,joueur):\n",
    "            return True\n",
    "\n",
    "    return False\n",
    "      \n",
    "plateau ={'n':4,\n",
    "        'cases': [\n",
    "                    0,0,0,0,   \n",
    "                    2,1,1,0,\n",
    "                    0,1,2,0,\n",
    "                    0,0,0,0\n",
    "                 ]\n",
    "}\n",
    "\n",
    "print(mouvement_valide(plateau,1,3,2))\n",
    "print(mouvement_valide(plateau,0,0,1))"
   ]
  },
  {
   "cell_type": "code",
   "execution_count": 11,
   "metadata": {},
   "outputs": [],
   "source": [
    "def mouvement_direction(plateau,i,j,vertical,horizontal,joueur):\n",
    "    if prise_possible_direction(plateau,i,j,vertical,horizontal,joueur):\n",
    "        x=i+vertical\n",
    "        y=j+horizontal\n",
    "        while get_case(plateau,x,y)==pion_adverse(joueur):\n",
    "            set_case(plateau,x,y,joueur)\n",
    "            x+=vertical\n",
    "            y+=horizontal   \n",
    "    \n",
    "    "
   ]
  },
  {
   "cell_type": "code",
   "execution_count": 12,
   "metadata": {
    "scrolled": true
   },
   "outputs": [
    {
     "name": "stdout",
     "output_type": "stream",
     "text": [
      "None\n",
      "*****************************\n",
      "*      *      *      *      *\n",
      "*  N   *      *      *      *  \n",
      "*      *      *      *      *\n",
      "*****************************\n",
      "*      *      *      *      *\n",
      "*  N   *      *      *      *  \n",
      "*      *      *      *      *\n",
      "*****************************\n",
      "*      *      *      *      *\n",
      "*  N   *      *      *      *  \n",
      "*      *      *      *      *\n",
      "*****************************\n",
      "*      *      *      *      *\n",
      "*  N   *      *      *      *  \n",
      "*      *      *      *      *\n",
      "*****************************\n",
      "None\n"
     ]
    }
   ],
   "source": [
    "def mouvement(plateau,i,j,joueur):\n",
    "    if mouvement_valide(plateau, i, j, joueur):\n",
    "        set_case(plateau,i,j,joueur)\n",
    "        mouvement_direction(plateau,i,j,-1,-1,joueur)\n",
    "        mouvement_direction(plateau,i,j,-1,0,joueur)\n",
    "        mouvement_direction(plateau,i,j,-1,1,joueur)\n",
    "        mouvement_direction(plateau,i,j,0,-1,joueur)\n",
    "        mouvement_direction(plateau,i,j,0,1,joueur)\n",
    "        mouvement_direction(plateau,i,j,1,-1,joueur)\n",
    "        mouvement_direction(plateau,i,j,1,0,joueur)\n",
    "        mouvement_direction(plateau,i,j,1,1,joueur)\n",
    "\n",
    "\n",
    "\n",
    "plateau ={'n':4,\n",
    "        'cases': [\n",
    "                    1,0,0,0,   \n",
    "                    2,0,0,0,\n",
    "                    2,0,0,0,\n",
    "                    0,0,0,0\n",
    "                 ]\n",
    "}\n",
    "\n",
    "\n",
    "print(mouvement(plateau,3,0,1))\n",
    "print(afficher_plateau(plateau))\n",
    "            "
   ]
  },
  {
   "cell_type": "code",
   "execution_count": 13,
   "metadata": {},
   "outputs": [
    {
     "name": "stdout",
     "output_type": "stream",
     "text": [
      "False\n"
     ]
    }
   ],
   "source": [
    "def joueur_peut_jouer(plateau,joueur):\n",
    "    n=plateau['n']\n",
    "    i=0\n",
    "    while i<n:\n",
    "        j=0\n",
    "        while j<n:\n",
    "            if mouvement_valide(plateau,i,j,joueur):\n",
    "                return True\n",
    "            j+=1\n",
    "        i+=1\n",
    "    return False\n",
    "            \n",
    "plateau ={'n':4,\n",
    "        'cases': [\n",
    "                    0,0,0,0,   \n",
    "                    0,1,1,0,\n",
    "                    0,1,1,0,\n",
    "                    0,0,0,0\n",
    "                 ]\n",
    "}        \n",
    "print(joueur_peut_jouer(plateau,1))    "
   ]
  },
  {
   "cell_type": "code",
   "execution_count": 14,
   "metadata": {},
   "outputs": [
    {
     "name": "stdout",
     "output_type": "stream",
     "text": [
      "True\n"
     ]
    }
   ],
   "source": [
    "def fin_de_partie(plateau):\n",
    "    if not joueur_peut_jouer(plateau, 2) and not joueur_peut_jouer(plateau, 1):\n",
    "        return True\n",
    "    else:\n",
    "        return False\n",
    "\n",
    "        \n",
    "plateau ={'n':4,\n",
    "        'cases': [\n",
    "                    0,0,0,0,   \n",
    "                    0,2,2,0,\n",
    "                    0,2,2,0,\n",
    "                    0,0,0,0\n",
    "                 ]\n",
    "}        \n",
    "   \n",
    "    \n",
    "print(fin_de_partie(plateau))"
   ]
  },
  {
   "cell_type": "code",
   "execution_count": 15,
   "metadata": {},
   "outputs": [
    {
     "name": "stdout",
     "output_type": "stream",
     "text": [
      "0\n"
     ]
    }
   ],
   "source": [
    "def gagnant (plateau):\n",
    "    tableau=plateau['cases']\n",
    "    i=0\n",
    "    compteur1=0\n",
    "    compteur2=0\n",
    "    while i <len(tableau):\n",
    "        if tableau[i]==1:\n",
    "            compteur1=compteur1+1\n",
    "        elif tableau[i]==2:\n",
    "            compteur2=compteur2+1\n",
    "        i=i+1\n",
    "\n",
    "    if compteur1>compteur2 :\n",
    "        return '1'\n",
    "\n",
    "    elif compteur2>compteur1:\n",
    "        return '2'\n",
    "\n",
    "    elif compteur1==compteur2:\n",
    "        return '0'\n",
    "print(gagnant(creer_plateau(4)))"
   ]
  },
  {
   "cell_type": "code",
   "execution_count": 16,
   "metadata": {},
   "outputs": [],
   "source": [
    "def creer_partie(n):\n",
    "    return {\"plateau\":creer_plateau(n), \"joueur\":1}\n"
   ]
  },
  {
   "cell_type": "code",
   "execution_count": 17,
   "metadata": {},
   "outputs": [
    {
     "name": "stdout",
     "output_type": "stream",
     "text": [
      "True\n"
     ]
    }
   ],
   "source": [
    "def saisie_valide(partie, s):\n",
    "    if s == \"M\" or (len(s) == 2 and case_valide(partie[\"plateau\"], ord(s[0])-97, int(s[1])-1)):\n",
    "        return True\n",
    "    else:\n",
    "        return False\n",
    "print(saisie_valide(creer_partie(4),'b4'))"
   ]
  },
  {
   "cell_type": "code",
   "execution_count": 18,
   "metadata": {
    "scrolled": false
   },
   "outputs": [],
   "source": [
    "from os import system\n",
    "def tour_jeu(partie):\n",
    "    system('cls') \n",
    "    afficher_plateau(partie[\"plateau\"])\n",
    "    if joueur_peut_jouer(partie[\"plateau\"], partie[\"joueur\"]):\n",
    "        print(\"joueur\", partie[\"joueur\"],\"a vous de jouer\")\n",
    "        choix = input()\n",
    "        good_input = False\n",
    "        while not good_input:\n",
    "            if not saisie_valide(partie, choix):\n",
    "                print(\"La saisie n'est pas valide, réesayez:\")\n",
    "                choix = input()\n",
    "            elif choix != \"M\" and not mouvement_valide(partie[\"plateau\"], ord(choix[0])-97, int(choix[1])-1, partie[\"joueur\"]):\n",
    "                print(\"Le mouvement n'est pas possible, réesayez:\")\n",
    "                choix = input()\n",
    "            else:\n",
    "                good_input = True\n",
    "        if choix != \"M\":\n",
    "            mouvement(partie[\"plateau\"], ord(choix[0])-97, int(choix[1])-1, partie[\"joueur\"])\n",
    "            return True\n",
    "        return False\n",
    "    return True\n",
    "    \n",
    "\n",
    "    "
   ]
  },
  {
   "cell_type": "code",
   "execution_count": 19,
   "metadata": {
    "scrolled": false
   },
   "outputs": [],
   "source": [
    "def saisir_action(partie):\n",
    "    print(\"Choisissez une action:\")\n",
    "    print(\"0 pour terminer le jeu\")\n",
    "    print(\"1 pour commencer une nouvelle partie\")\n",
    "    print(\"2 pour charger une partie\")\n",
    "    print(\"3 pour sauvegarder une partie (si une partie est en cours)\")\n",
    "    print(\"4 pour reprendre la partie (si une partie est en cours)\")\n",
    "    choix = input()\n",
    "    if partie is None:\n",
    "        while choix != \"0\" and choix != \"1\" and choix != \"2\":\n",
    "            if choix == \"3\" or choix == \"4\":\n",
    "                print(\"Pas de partie en cours, choisissez une autre action:\")\n",
    "            else:\n",
    "                print(\"Saisie invalide, réesayez:\")\n",
    "            choix = input()\n",
    "    else:\n",
    "        while choix != \"0\" and choix != \"1\" and choix != \"2\" and choix != \"3\" and choix!= \"4\":\n",
    "            print(\"Saisie invalide, réesayez:\")\n",
    "            choix = input()\n",
    "    return choix\n"
   ]
  },
  {
   "cell_type": "code",
   "execution_count": 20,
   "metadata": {
    "scrolled": false
   },
   "outputs": [],
   "source": [
    "def jouer(partie):\n",
    "    while not fin_de_partie(partie[\"plateau\"]):\n",
    "        if tour_jeu(partie):\n",
    "            partie[\"joueur\"] = pion_adverse(partie[\"joueur\"])\n",
    "        else:\n",
    "            return False\n",
    "    system('cls')      \n",
    "    win = gagnant(partie[\"plateau\"])\n",
    "    afficher_plateau(partie[\"plateau\"])\n",
    "    print(\"La partie est terminée !\")\n",
    "    if win == 0:\n",
    "        print(\"égalité.\")\n",
    "    else:\n",
    "        print(\"Le joueur \",win,\" à gagné.\")\n",
    "    return True\n",
    "\n",
    "\n",
    "\n"
   ]
  },
  {
   "cell_type": "code",
   "execution_count": 21,
   "metadata": {},
   "outputs": [],
   "source": [
    "def saisir_taille_plateau():\n",
    "    print(\"saisir (4, 6 ou 8).\")\n",
    "    choix = int(input())\n",
    "    while choix != 4 and choix != 6 and choix != 8:\n",
    "        print(\"invalide, réesayez:\")\n",
    "        choix = int(input())\n",
    "    return choix\n"
   ]
  },
  {
   "cell_type": "code",
   "execution_count": 22,
   "metadata": {},
   "outputs": [],
   "source": [
    "import json\n",
    "def sauvegarder_partie(partie):\n",
    "    with open(\"sauvegarde_partie.json\", \"w\") as save:\n",
    "        json.dump(partie, save)"
   ]
  },
  {
   "cell_type": "code",
   "execution_count": 23,
   "metadata": {},
   "outputs": [],
   "source": [
    "import os\n",
    "def charger_partie():\n",
    "    if os.path.exists(\"sauvegarde_partie.json\"):\n",
    "        with open(\"sauvegarde_partie.json\", \"r\") as save:\n",
    "            return json.load(save)\n",
    "    else:\n",
    "        print(\"Il n'y a pas de partie sauvegardée\")\n",
    "        return creer_partie(saisir_taille_plateau())\n"
   ]
  },
  {
   "cell_type": "code",
   "execution_count": null,
   "metadata": {
    "scrolled": false
   },
   "outputs": [
    {
     "name": "stdout",
     "output_type": "stream",
     "text": [
      "Choisissez une action:\n",
      "0 pour terminer le jeu\n",
      "1 pour commencer une nouvelle partie\n",
      "2 pour charger une partie\n",
      "3 pour sauvegarder une partie (si une partie est en cours)\n",
      "4 pour reprendre la partie (si une partie est en cours)\n",
      "1\n",
      "saisir (4, 6 ou 8).\n",
      "6\n",
      "*******************************************\n",
      "*      *      *      *      *      *      *\n",
      "*      *      *      *      *      *      *  \n",
      "*      *      *      *      *      *      *\n",
      "*******************************************\n",
      "*      *      *      *      *      *      *\n",
      "*      *      *      *      *      *      *  \n",
      "*      *      *      *      *      *      *\n",
      "*******************************************\n",
      "*      *      *      *      *      *      *\n",
      "*      *      *  B   *  N   *      *      *  \n",
      "*      *      *      *      *      *      *\n",
      "*******************************************\n",
      "*      *      *      *      *      *      *\n",
      "*      *      *  N   *  B   *      *      *  \n",
      "*      *      *      *      *      *      *\n",
      "*******************************************\n",
      "*      *      *      *      *      *      *\n",
      "*      *      *      *      *      *      *  \n",
      "*      *      *      *      *      *      *\n",
      "*******************************************\n",
      "*      *      *      *      *      *      *\n",
      "*      *      *      *      *      *      *  \n",
      "*      *      *      *      *      *      *\n",
      "*******************************************\n",
      "joueur 1 a vous de jouer\n"
     ]
    }
   ],
   "source": [
    "def othello():\n",
    "    partie = None\n",
    "    action = saisir_action(partie)\n",
    "    while action != \"0\":\n",
    "        if action == \"1\":\n",
    "            partie = creer_partie(saisir_taille_plateau())\n",
    "            jouer(partie)\n",
    "        elif action == \"2\":\n",
    "            partie = charger_partie()\n",
    "            jouer(partie)\n",
    "        elif action == \"3\":\n",
    "            sauvegarder_partie(partie)\n",
    "        else:\n",
    "            jouer(partie)\n",
    "        action = saisir_action(partie)\n",
    "    system('cls')   \n",
    "    \n",
    "    \n",
    "     \n",
    "othello()"
   ]
  },
  {
   "cell_type": "code",
   "execution_count": null,
   "metadata": {},
   "outputs": [],
   "source": []
  }
 ],
 "metadata": {
  "kernelspec": {
   "display_name": "Python 3",
   "language": "python",
   "name": "python3"
  },
  "language_info": {
   "codemirror_mode": {
    "name": "ipython",
    "version": 3
   },
   "file_extension": ".py",
   "mimetype": "text/x-python",
   "name": "python",
   "nbconvert_exporter": "python",
   "pygments_lexer": "ipython3",
   "version": "3.7.0"
  }
 },
 "nbformat": 4,
 "nbformat_minor": 2
}
