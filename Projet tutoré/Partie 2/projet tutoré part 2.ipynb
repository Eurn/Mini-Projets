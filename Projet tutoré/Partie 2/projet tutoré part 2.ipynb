{
 "cells": [
  {
   "cell_type": "code",
   "execution_count": 19,
   "metadata": {},
   "outputs": [
    {
     "name": "stdout",
     "output_type": "stream",
     "text": [
      "False doit retourner False\n",
      "True doit retourner True\n"
     ]
    }
   ],
   "source": [
    "def indice_valide(plateau, indice):\n",
    "    return indice>=0 and indice < plateau['n']\n",
    "\n",
    "\n",
    "\n",
    "plateau ={'n':4,\n",
    "        'cases': [\n",
    "                    0,0,0,0,   \n",
    "                    0,0,0,0,\n",
    "                    0,0,0,0,\n",
    "                    0,0,0,0\n",
    "                ]\n",
    "}\n",
    "\n",
    "\n",
    "print(indice_valide(plateau, 32),\"doit retourner False\")\n",
    "print(indice_valide(plateau, 1),\"doit retourner True\")\n",
    "\n"
   ]
  },
  {
   "cell_type": "code",
   "execution_count": 20,
   "metadata": {},
   "outputs": [
    {
     "name": "stdout",
     "output_type": "stream",
     "text": [
      "True doit retourner True\n",
      "False doit retourner False\n"
     ]
    }
   ],
   "source": [
    "def case_valide(plateau, i, j):\n",
    "    return indice_valide(plateau, i) and indice_valide(plateau, j)\n",
    "\n",
    "    plateau ={'n':4,\n",
    "        'cases': [\n",
    "                    0,0,0,0,   \n",
    "                    0,0,0,0,\n",
    "                    0,0,0,0,\n",
    "                    0,0,0,0\n",
    "                ]\n",
    "}\n",
    "print(case_valide(plateau,3,0),\"doit retourner True\")\n",
    "print(case_valide(plateau,5,2),\"doit retourner False\")\n"
   ]
  },
  {
   "cell_type": "code",
   "execution_count": 21,
   "metadata": {},
   "outputs": [
    {
     "name": "stdout",
     "output_type": "stream",
     "text": [
      "2 doit retourner 2\n",
      "0 doit retourner 0\n"
     ]
    }
   ],
   "source": [
    "def get_case(plateau, i, j):\n",
    "        assert plateau['cases'][i*plateau['n']+j]<=plateau['n']**2\n",
    "        return plateau['cases'][i*plateau['n']+j]\n",
    "    \n",
    "    \n",
    "    \n",
    "    \n",
    "plateau ={'n':4,\n",
    "        'cases': [\n",
    "                    0,0,0,0,   \n",
    "                    0,0,0,0,\n",
    "                    0,0,0,0,\n",
    "                    0,2,0,0\n",
    "                 ]\n",
    "}\n",
    "    \n",
    "    \n",
    "print(get_case(plateau, 3, 1),\"doit retourner 2\")\n",
    "print(get_case(plateau, 0, 0),\"doit retourner 0\")\n"
   ]
  },
  {
   "cell_type": "code",
   "execution_count": 22,
   "metadata": {},
   "outputs": [
    {
     "name": "stdout",
     "output_type": "stream",
     "text": [
      "2 doit retourner 2\n",
      "[0, 0, 0, 0, 0, 2, 0, 0, 0, 0, 0, 0, 0, 0, 0, 0] doit afficher 2 à la case d'indice 5\n"
     ]
    }
   ],
   "source": [
    "def set_case(plateau, i, j, val):\n",
    "    assert val == 0 or val == 1 or val == 2\n",
    "    plateau['cases'][i*plateau['n']+j] = val \n",
    "    return plateau['cases'][i*plateau['n']+j]\n",
    "    \n",
    "    \n",
    "    \n",
    "        \n",
    "plateau ={'n':4,\n",
    "        'cases': [\n",
    "                    0,0,0,0,   \n",
    "                    0,0,0,0,\n",
    "                    0,0,0,0,\n",
    "                    0,0,0,0\n",
    "                 ]\n",
    "}\n",
    "    \n",
    "print(set_case(plateau, 1,1,2),\"doit retourner 2\")\n",
    "print(plateau['cases'],\"doit afficher 2 à la case d'indice 5\") # Car 1*4+1=5"
   ]
  },
  {
   "cell_type": "code",
   "execution_count": 23,
   "metadata": {},
   "outputs": [
    {
     "name": "stdout",
     "output_type": "stream",
     "text": [
      "{'n': 8, 'cases': [0, 0, 0, 0, 0, 0, 0, 0, 0, 0, 0, 0, 0, 0, 0, 0, 0, 0, 0, 0, 0, 0, 0, 0, 0, 0, 0, 2, 1, 0, 0, 0, 0, 0, 0, 1, 2, 0, 0, 0, 0, 0, 0, 0, 0, 0, 0, 0, 0, 0, 0, 0, 0, 0, 0, 0, 0, 0, 0, 0, 0, 0, 0, 0]}\n"
     ]
    }
   ],
   "source": [
    "def creer_plateau(n):\n",
    "    assert n==4 or n==6 or n==8\n",
    "    tableau={'n':n,'cases':[]}\n",
    "    i=0\n",
    "    while i<n**2:\n",
    "        tableau['cases'].append(0)\n",
    "        i+=1\n",
    "    set_case(tableau, (n//2)-1,(n//2)-1,2)\n",
    "    set_case(tableau, (n//2)-1,(n//2),1)\n",
    "    set_case(tableau, (n//2),(n//2)-1,1)\n",
    "    set_case(tableau, (n//2),(n//2),2)\n",
    "    return tableau\n",
    "        \n",
    "        \n",
    "        \n",
    "        \n",
    "print(creer_plateau(8))"
   ]
  },
  {
   "cell_type": "code",
   "execution_count": 24,
   "metadata": {},
   "outputs": [
    {
     "name": "stdout",
     "output_type": "stream",
     "text": [
      "*********************************************************\n",
      "*      *      *      *      *      *      *      *      *\n",
      "*      *      *      *      *      *      *      *      *  \n",
      "*      *      *      *      *      *      *      *      *\n",
      "*********************************************************\n",
      "*      *      *      *      *      *      *      *      *\n",
      "*      *      *      *      *      *      *      *      *  \n",
      "*      *      *      *      *      *      *      *      *\n",
      "*********************************************************\n",
      "*      *      *      *      *      *      *      *      *\n",
      "*      *      *      *      *      *      *      *      *  \n",
      "*      *      *      *      *      *      *      *      *\n",
      "*********************************************************\n",
      "*      *      *      *      *      *      *      *      *\n",
      "*      *      *      *  B   *  N   *      *      *      *  \n",
      "*      *      *      *      *      *      *      *      *\n",
      "*********************************************************\n",
      "*      *      *      *      *      *      *      *      *\n",
      "*      *      *      *  N   *  B   *      *      *      *  \n",
      "*      *      *      *      *      *      *      *      *\n",
      "*********************************************************\n",
      "*      *      *      *      *      *      *      *      *\n",
      "*      *      *      *      *      *      *      *      *  \n",
      "*      *      *      *      *      *      *      *      *\n",
      "*********************************************************\n",
      "*      *      *      *      *      *      *      *      *\n",
      "*      *      *      *      *      *      *      *      *  \n",
      "*      *      *      *      *      *      *      *      *\n",
      "*********************************************************\n",
      "*      *      *      *      *      *      *      *      *\n",
      "*      *      *      *      *      *      *      *      *  \n",
      "*      *      *      *      *      *      *      *      *\n",
      "*********************************************************\n"
     ]
    }
   ],
   "source": [
    "def N_B(tab):\n",
    "    i=0\n",
    "    t=[]\n",
    "    while i<len(tab):\n",
    "        if tab[i]==0:\n",
    "            t.append(' ')\n",
    "        elif tab[i]==1:\n",
    "            t.append('N')\n",
    "        elif tab[i]==2:\n",
    "            t.append('B')\n",
    "        i+=1\n",
    "    return t\n",
    "\n",
    "\n",
    "def ligne_etoile(n):\n",
    "        print((n*7+1)*'*')\n",
    "\n",
    "    \n",
    "        \n",
    "\n",
    "def affichage_m (plateau):\n",
    "    n=plateau['n']\n",
    "    t=N_B(plateau['cases'])\n",
    "    lignes=0\n",
    "    ligne_etoile(n)\n",
    "    while lignes < n:\n",
    "        s='*  '\n",
    "        colonnes=0\n",
    "        while colonnes < n:\n",
    "            s+=str(t[lignes*n+colonnes])+'   *  '\n",
    "            colonnes+=1\n",
    "        print(n*'*      '+'*')\n",
    "        print(s)\n",
    "        print(n*'*      '+'*')\n",
    "        ligne_etoile(n)\n",
    "        lignes+=1\n",
    "        \n",
    "\n",
    "\n",
    "\n",
    "x=creer_plateau(8)\n",
    "  \n",
    "\n",
    "affichage_m (x)"
   ]
  },
  {
   "cell_type": "code",
   "execution_count": 25,
   "metadata": {},
   "outputs": [
    {
     "name": "stdout",
     "output_type": "stream",
     "text": [
      "1\n"
     ]
    }
   ],
   "source": [
    "def pion_adverse(joueur):\n",
    "    assert joueur==1 or joueur==2\n",
    "    if joueur == 1:\n",
    "        return 2\n",
    "    return 1\n",
    "print(pion_adverse(2))\n",
    "\n",
    " "
   ]
  },
  {
   "cell_type": "code",
   "execution_count": 26,
   "metadata": {},
   "outputs": [
    {
     "name": "stdout",
     "output_type": "stream",
     "text": [
      "True\n",
      "False\n",
      "False\n",
      "True\n"
     ]
    }
   ],
   "source": [
    "def prise_possible_direction(plateau, i, j, vertical, horizontal, joueur):\n",
    "    if case_valide(plateau,i+vertical,j+horizontal) and get_case(plateau,i+vertical,j+horizontal)==pion_adverse(joueur):\n",
    "        x=i+2*vertical\n",
    "        y=j+2*horizontal\n",
    "        while case_valide(plateau, x, y):\n",
    "            if get_case(plateau,x,y)==0:\n",
    "                return False\n",
    "            elif get_case(plateau,x,y)==joueur:\n",
    "                return True\n",
    "            x+=vertical\n",
    "            y+=horizontal\n",
    "    return False\n",
    "\n",
    "plateau ={'n':4,\n",
    "        'cases': [\n",
    "                    0,0,0,0,   \n",
    "                    0,2,1,0,\n",
    "                    0,1,2,0,\n",
    "                    0,0,0,0\n",
    "                 ]\n",
    "}\n",
    "        \n",
    "    \n",
    "       \n",
    "print(prise_possible_direction(plateau,1,3,0,-1,2))# retourne True\n",
    "print(prise_possible_direction(plateau,1,3,0,-1,1)) # retourne False\n",
    "print(prise_possible_direction(plateau,1,3,-1,-1,2)) # retourne False\n",
    "print(prise_possible_direction(plateau,1,0,0,1,1)) # retourne True\n",
    "\n"
   ]
  },
  {
   "cell_type": "code",
   "execution_count": 27,
   "metadata": {},
   "outputs": [
    {
     "name": "stdout",
     "output_type": "stream",
     "text": [
      "True\n",
      "False\n"
     ]
    }
   ],
   "source": [
    "def mouvement_valide(plateau,i,j,joueur):\n",
    "    if get_case(plateau,i,j) == 0:\n",
    "        if prise_possible_direction(plateau,i,j,0,-1,joueur):\n",
    "            return True\n",
    "        elif prise_possible_direction(plateau,i,j,0,1,joueur):\n",
    "            return True\n",
    "        elif prise_possible_direction(plateau,i,j,-1,0,joueur):\n",
    "            return True\n",
    "        elif prise_possible_direction(plateau,i,j,-1,-1,joueur):\n",
    "            return True\n",
    "        elif prise_possible_direction(plateau,i,j,-1,1,joueur):\n",
    "            return True\n",
    "        elif prise_possible_direction(plateau,i,j,1,-1,joueur):\n",
    "            return True\n",
    "        elif prise_possible_direction(plateau,i,j,1,0,joueur):\n",
    "            return True\n",
    "        elif prise_possible_direction(plateau,i,j,1,1,joueur):\n",
    "            return True\n",
    "\n",
    "    return False\n",
    "      \n",
    "plateau ={'n':4,\n",
    "        'cases': [\n",
    "                    0,0,0,0,   \n",
    "                    2,1,1,0,\n",
    "                    0,1,2,0,\n",
    "                    0,0,0,0\n",
    "                 ]\n",
    "}\n",
    "\n",
    "print(mouvement_valide(plateau,1,3,2))\n",
    "print(mouvement_valide(plateau,0,0,1))"
   ]
  },
  {
   "cell_type": "code",
   "execution_count": 28,
   "metadata": {},
   "outputs": [],
   "source": [
    "def mouvement_direction(plateau,i,j,vertical,horizontal,joueur):\n",
    "    if prise_possible_direction(plateau,i,j,vertical,horizontal,joueur):\n",
    "        x=i+vertical\n",
    "        y=j+horizontal\n",
    "        while get_case(plateau,x,y)==pion_adverse(joueur):\n",
    "            set_case(plateau,x,y,joueur)\n",
    "            x+=vertical\n",
    "            y+=horizontal   \n",
    "    \n",
    "    "
   ]
  },
  {
   "cell_type": "code",
   "execution_count": 29,
   "metadata": {
    "scrolled": true
   },
   "outputs": [
    {
     "name": "stdout",
     "output_type": "stream",
     "text": [
      "None\n",
      "*****************************\n",
      "*      *      *      *      *\n",
      "*  N   *      *      *      *  \n",
      "*      *      *      *      *\n",
      "*****************************\n",
      "*      *      *      *      *\n",
      "*  N   *      *      *      *  \n",
      "*      *      *      *      *\n",
      "*****************************\n",
      "*      *      *      *      *\n",
      "*  N   *      *      *      *  \n",
      "*      *      *      *      *\n",
      "*****************************\n",
      "*      *      *      *      *\n",
      "*  N   *      *      *      *  \n",
      "*      *      *      *      *\n",
      "*****************************\n",
      "None\n"
     ]
    }
   ],
   "source": [
    "def mouvement(plateau,i,j,joueur):\n",
    "    if mouvement_valide(plateau, i, j, joueur):\n",
    "        set_case(plateau,i,j,joueur)\n",
    "        mouvement_direction(plateau,i,j,-1,-1,joueur)\n",
    "        mouvement_direction(plateau,i,j,-1,0,joueur)\n",
    "        mouvement_direction(plateau,i,j,-1,1,joueur)\n",
    "        mouvement_direction(plateau,i,j,0,-1,joueur)\n",
    "        mouvement_direction(plateau,i,j,0,1,joueur)\n",
    "        mouvement_direction(plateau,i,j,1,-1,joueur)\n",
    "        mouvement_direction(plateau,i,j,1,0,joueur)\n",
    "        mouvement_direction(plateau,i,j,1,1,joueur)\n",
    "\n",
    "\n",
    "\n",
    "plateau ={'n':4,\n",
    "        'cases': [\n",
    "                    1,0,0,0,   \n",
    "                    2,0,0,0,\n",
    "                    2,0,0,0,\n",
    "                    0,0,0,0\n",
    "                 ]\n",
    "}\n",
    "\n",
    "\n",
    "print(mouvement(plateau,3,0,1))\n",
    "print(affichage_m(plateau))\n",
    "            "
   ]
  },
  {
   "cell_type": "code",
   "execution_count": 30,
   "metadata": {},
   "outputs": [
    {
     "name": "stdout",
     "output_type": "stream",
     "text": [
      "False\n"
     ]
    }
   ],
   "source": [
    "def joueur_peu_jouer(plateau,joueur):\n",
    "    n=plateau['n']\n",
    "    i=0\n",
    "    j=0\n",
    "    while i<n:\n",
    "        while j<n:\n",
    "            if mouvement_valide(plateau,i,j,joueur):\n",
    "                return True\n",
    "            j+=1\n",
    "        i+=1\n",
    "    return False\n",
    "            \n",
    "plateau ={'n':4,\n",
    "        'cases': [\n",
    "                    0,0,0,0,   \n",
    "                    0,1,1,0,\n",
    "                    0,1,1,0,\n",
    "                    0,0,0,0\n",
    "                 ]\n",
    "}        \n",
    "print(joueur_peu_jouer(plateau,2))    "
   ]
  },
  {
   "cell_type": "code",
   "execution_count": 31,
   "metadata": {},
   "outputs": [
    {
     "name": "stdout",
     "output_type": "stream",
     "text": [
      "True\n"
     ]
    }
   ],
   "source": [
    "def fin_de_partie(plateau):\n",
    "    joueur=1\n",
    "    while joueur<3:\n",
    "        if not joueur_peu_jouer(plateau,joueur):\n",
    "            return True\n",
    "        joueur+=1\n",
    "    return 0\n",
    "        \n",
    "plateau ={'n':4,\n",
    "        'cases': [\n",
    "                    0,0,0,0,   \n",
    "                    0,2,2,0,\n",
    "                    0,2,2,0,\n",
    "                    0,0,0,0\n",
    "                 ]\n",
    "}        \n",
    "   \n",
    "    \n",
    "print(fin_de_partie(plateau))"
   ]
  },
  {
   "cell_type": "code",
   "execution_count": null,
   "metadata": {},
   "outputs": [],
   "source": []
  },
  {
   "cell_type": "code",
   "execution_count": null,
   "metadata": {},
   "outputs": [],
   "source": []
  },
  {
   "cell_type": "code",
   "execution_count": null,
   "metadata": {},
   "outputs": [],
   "source": []
  },
  {
   "cell_type": "code",
   "execution_count": null,
   "metadata": {},
   "outputs": [],
   "source": []
  },
  {
   "cell_type": "code",
   "execution_count": null,
   "metadata": {},
   "outputs": [],
   "source": [
    "\n"
   ]
  },
  {
   "cell_type": "code",
   "execution_count": null,
   "metadata": {},
   "outputs": [],
   "source": []
  }
 ],
 "metadata": {
  "kernelspec": {
   "display_name": "Python 3",
   "language": "python",
   "name": "python3"
  },
  "language_info": {
   "codemirror_mode": {
    "name": "ipython",
    "version": 3
   },
   "file_extension": ".py",
   "mimetype": "text/x-python",
   "name": "python",
   "nbconvert_exporter": "python",
   "pygments_lexer": "ipython3",
   "version": "3.7.0"
  }
 },
 "nbformat": 4,
 "nbformat_minor": 2
}
